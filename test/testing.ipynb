{
 "cells": [
  {
   "cell_type": "code",
   "execution_count": 7,
   "metadata": {},
   "outputs": [],
   "source": [
    "import pandas as pd\n",
    "import matplotlib.pyplot as plt\n",
    "import seaborn as sns\n",
    "\n",
    "%matplotlib inline"
   ]
  },
  {
   "cell_type": "code",
   "execution_count": 87,
   "metadata": {},
   "outputs": [],
   "source": [
    "df = pd.read_csv('default_of_credit_card_clients.csv')\n",
    "df.drop(columns=['ID'],inplace=True)\n",
    "target = 'default_payment_next_month'\n",
    "feat_disc_threshold = 11\n",
    "feat_discrete = [col for col in df.columns if getattr(df, col).nunique() <= feat_disc_threshold and col != target]\n",
    "feat_continous = [col for col in df.columns if col not in feat_discrete and col != target]"
   ]
  },
  {
   "cell_type": "code",
   "execution_count": 95,
   "metadata": {},
   "outputs": [],
   "source": [
    "def feature_discrete(df=None, cols=None, labels=None, key=None, target=None, fname='demographics.png', output=None,\n",
    "                     subplts=[3,2], figsize=(12,20), col_excl=None):\n",
    "    cols_res = [col for col in feat_discrete if col not in col_excl]\n",
    "    \n",
    "    return cols_res"
   ]
  },
  {
   "cell_type": "code",
   "execution_count": 96,
   "metadata": {},
   "outputs": [],
   "source": [
    "cols_res = feature_discrete(df = df,\n",
    "                 cols = feat_discrete,\n",
    "                 key = 'AGE',\n",
    "                 col_excl = ['PAY_0', 'PAY_2', 'PAY_3', 'PAY_4', 'PAY_5', 'PAY_6'],\n",
    "                 labels={'SEX': {1:'Male', 2:'Female'},\n",
    "                         'EDUCATION': {1:'Graduate School', 2:'University', 3:'High School', 4:\"Others\"},\n",
    "                         'MARRIAGE': {1:'Married', 2:'Single', 3:'Others'}}\n",
    "                 )"
   ]
  },
  {
   "cell_type": "code",
   "execution_count": 97,
   "metadata": {},
   "outputs": [
    {
     "data": {
      "text/plain": [
       "['SEX', 'EDUCATION', 'MARRIAGE']"
      ]
     },
     "execution_count": 97,
     "metadata": {},
     "output_type": "execute_result"
    }
   ],
   "source": [
    "cols_res"
   ]
  }
 ],
 "metadata": {
  "kernelspec": {
   "display_name": "Python 3",
   "language": "python",
   "name": "python3"
  },
  "language_info": {
   "codemirror_mode": {
    "name": "ipython",
    "version": 3
   },
   "file_extension": ".py",
   "mimetype": "text/x-python",
   "name": "python",
   "nbconvert_exporter": "python",
   "pygments_lexer": "ipython3",
   "version": "3.11.2"
  },
  "orig_nbformat": 4
 },
 "nbformat": 4,
 "nbformat_minor": 2
}

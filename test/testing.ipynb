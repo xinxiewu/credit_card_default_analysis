{
 "cells": [
  {
   "cell_type": "code",
   "execution_count": 98,
   "metadata": {},
   "outputs": [],
   "source": [
    "import pandas as pd\n",
    "import matplotlib.pyplot as plt\n",
    "import seaborn as sns"
   ]
  },
  {
   "cell_type": "code",
   "execution_count": 99,
   "metadata": {},
   "outputs": [],
   "source": [
    "df = pd.read_csv('default_of_credit_card_clients.csv')\n",
    "df.drop(columns=['ID'],inplace=True)\n",
    "target = 'default_payment_next_month'\n",
    "target_rename = 'default'\n",
    "df.rename(columns={target:target_rename}, inplace=True)\n",
    "target=target_rename\n",
    "feat_disc_threshold = 11\n",
    "feat_discrete = [col for col in df.columns if getattr(df, col).nunique() <= feat_disc_threshold and col != target]\n",
    "feat_continous = [col for col in df.columns if col not in feat_discrete and col != target]"
   ]
  }
 ],
 "metadata": {
  "kernelspec": {
   "display_name": "Python 3",
   "language": "python",
   "name": "python3"
  },
  "language_info": {
   "codemirror_mode": {
    "name": "ipython",
    "version": 3
   },
   "file_extension": ".py",
   "mimetype": "text/x-python",
   "name": "python",
   "nbconvert_exporter": "python",
   "pygments_lexer": "ipython3",
   "version": "3.10.9"
  },
  "orig_nbformat": 4
 },
 "nbformat": 4,
 "nbformat_minor": 2
}
